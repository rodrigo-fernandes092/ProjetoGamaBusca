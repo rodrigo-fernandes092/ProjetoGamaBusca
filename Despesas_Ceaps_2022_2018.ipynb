{
  "nbformat": 4,
  "nbformat_minor": 0,
  "metadata": {
    "colab": {
      "name": "Despesas_Ceaps_2022-2018.ipynb",
      "provenance": [],
      "authorship_tag": "ABX9TyOhSa8CGB2RYJsFOGg6iNkT",
      "include_colab_link": true
    },
    "kernelspec": {
      "name": "python3",
      "display_name": "Python 3"
    },
    "language_info": {
      "name": "python"
    }
  },
  "cells": [
    {
      "cell_type": "markdown",
      "metadata": {
        "id": "view-in-github",
        "colab_type": "text"
      },
      "source": [
        "<a href=\"https://colab.research.google.com/github/rodrigo-fernandes092/ProjetoGamaBusca/blob/main/Despesas_Ceaps_2022_2018.ipynb\" target=\"_parent\"><img src=\"https://colab.research.google.com/assets/colab-badge.svg\" alt=\"Open In Colab\"/></a>"
      ]
    },
    {
      "cell_type": "markdown",
      "source": [
        "# **#7DaysOfCode**\n",
        "\n",
        "É um desafio proposto pelo Cientista de Dados Paulo Vasconcellos junto com Alura, Plataforma Brasileira de Ensino.<p>\n",
        "Que visa incentivar a prática dos estudos técnicos com desafios diários e materiais extras durante 7 dias.\n",
        "\n"
      ],
      "metadata": {
        "id": "gP_qRrMN6LWE"
      }
    },
    {
      "cell_type": "markdown",
      "source": [
        "#**01° Desafio**\n",
        "\n",
        "Coletar o dataset do portal do [CEAPS ( Cota para Exercício da Atividade Parlamentar)](https://www12.senado.leg.br/transparencia/dados-abertos-transparencia/dados-abertos-ceaps?utm_source=ActiveCampaign&utm_medium=email&utm_content=%237DaysOfCode+-+Ci%C3%AAncia+de+Dados+1%2F7%3A+Data+Cleaning+and+Preparation&utm_campaign=%5BAlura+%237Days+Of+Code%5D%28Java%29+Dia+1%2F7%3A+Consumir+uma+API+de+filmes)  e aplicar processo de limpeza e tratamento de dados nele, sendo eles nulos ou não.<p>\n",
        "\n",
        "Acessei o portal e coletei as despesas do CEAPS de 2018 até 2022\n"
      ],
      "metadata": {
        "id": "02nKEBMW66j9"
      }
    },
    {
      "cell_type": "markdown",
      "source": [
        "##**Importando as Bibliotecas**"
      ],
      "metadata": {
        "id": "gIvOnWB67rtv"
      }
    },
    {
      "cell_type": "code",
      "execution_count": 28,
      "metadata": {
        "id": "-azD3DhAebX3"
      },
      "outputs": [],
      "source": [
        "import pandas as pd\n",
        "import numpy as np\n",
        "import matplotlib.pyplot as plt\n"
      ]
    },
    {
      "cell_type": "markdown",
      "source": [
        "## *Problema 01*\n",
        "\n",
        " No momento que rodei para ler o arquivo, apareceu o erro **\"*utf-8 codec can't decode byte 0xf3 in position 213: invalid continuation byte*\"**.\n",
        "\n",
        "Consegui resolver definindo o sep=';',header=0,encoding='cp1252'\n",
        "\n",
        "O encoding foi mais difícil de achar, havia tentado outros como 'latin1', 'iso-8859-1' e 'utf-8' mas sem sucesso. Até conseguir o código 'cp1252' que resolveu o meu problema.\n"
      ],
      "metadata": {
        "id": "RPlFPDKyhm47"
      }
    },
    {
      "cell_type": "code",
      "source": [
        "ceaps_21 = pd.read_csv('despesa_ceaps_2021.csv',sep=';',header=1,encoding='cp1252')\n",
        "ceaps_20 = pd.read_csv('despesa_ceaps_2020.csv',sep=';',header=1,encoding='cp1252')\n",
        "ceaps_19 = pd.read_csv('despesa_ceaps_2019.csv',sep=';',header=1,encoding='cp1252')\n",
        "ceaps_18 = pd.read_csv('despesa_ceaps_2018.csv',sep=';',header=1,encoding='cp1252')\n",
        "\n"
      ],
      "metadata": {
        "id": "X5OECaMhe-da"
      },
      "execution_count": 29,
      "outputs": []
    },
    {
      "cell_type": "markdown",
      "source": [
        "# Checando os datasets\n",
        "Verificando se as bases de dados estão com os mesmos formatos e tipo de dados\n"
      ],
      "metadata": {
        "id": "BW4jpUehknKe"
      }
    },
    {
      "cell_type": "code",
      "source": [
        "ceaps_21.info()"
      ],
      "metadata": {
        "colab": {
          "base_uri": "https://localhost:8080/"
        },
        "id": "a0b50liohj-h",
        "outputId": "f8aac68b-29a7-41f7-bf28-6ac4c3cd4022"
      },
      "execution_count": 30,
      "outputs": [
        {
          "output_type": "stream",
          "name": "stdout",
          "text": [
            "<class 'pandas.core.frame.DataFrame'>\n",
            "RangeIndex: 16808 entries, 0 to 16807\n",
            "Data columns (total 11 columns):\n",
            " #   Column             Non-Null Count  Dtype \n",
            "---  ------             --------------  ----- \n",
            " 0   ANO                16808 non-null  int64 \n",
            " 1   MES                16808 non-null  int64 \n",
            " 2   SENADOR            16808 non-null  object\n",
            " 3   TIPO_DESPESA       16808 non-null  object\n",
            " 4   CNPJ_CPF           16808 non-null  object\n",
            " 5   FORNECEDOR         16808 non-null  object\n",
            " 6   DOCUMENTO          16133 non-null  object\n",
            " 7   DATA               16808 non-null  object\n",
            " 8   DETALHAMENTO       9193 non-null   object\n",
            " 9   VALOR_REEMBOLSADO  16808 non-null  object\n",
            " 10  COD_DOCUMENTO      16808 non-null  int64 \n",
            "dtypes: int64(3), object(8)\n",
            "memory usage: 1.4+ MB\n"
          ]
        }
      ]
    },
    {
      "cell_type": "code",
      "source": [
        "ceaps_20.info()"
      ],
      "metadata": {
        "colab": {
          "base_uri": "https://localhost:8080/"
        },
        "id": "XJkuvbVdkOzN",
        "outputId": "2fe1e5fc-2249-4046-8dc7-a666f2fda502"
      },
      "execution_count": 31,
      "outputs": [
        {
          "output_type": "stream",
          "name": "stdout",
          "text": [
            "<class 'pandas.core.frame.DataFrame'>\n",
            "RangeIndex: 14090 entries, 0 to 14089\n",
            "Data columns (total 11 columns):\n",
            " #   Column             Non-Null Count  Dtype \n",
            "---  ------             --------------  ----- \n",
            " 0   ANO                14090 non-null  int64 \n",
            " 1   MES                14090 non-null  int64 \n",
            " 2   SENADOR            14090 non-null  object\n",
            " 3   TIPO_DESPESA       14090 non-null  object\n",
            " 4   CNPJ_CPF           14090 non-null  object\n",
            " 5   FORNECEDOR         14090 non-null  object\n",
            " 6   DOCUMENTO          13470 non-null  object\n",
            " 7   DATA               14090 non-null  object\n",
            " 8   DETALHAMENTO       7228 non-null   object\n",
            " 9   VALOR_REEMBOLSADO  14090 non-null  object\n",
            " 10  COD_DOCUMENTO      14090 non-null  int64 \n",
            "dtypes: int64(3), object(8)\n",
            "memory usage: 1.2+ MB\n"
          ]
        }
      ]
    },
    {
      "cell_type": "code",
      "source": [
        "ceaps_19.info()"
      ],
      "metadata": {
        "colab": {
          "base_uri": "https://localhost:8080/"
        },
        "id": "_gLo-dKzkQa2",
        "outputId": "d066737e-b16f-4b93-d5d8-1fb1c2deb15f"
      },
      "execution_count": 32,
      "outputs": [
        {
          "output_type": "stream",
          "name": "stdout",
          "text": [
            "<class 'pandas.core.frame.DataFrame'>\n",
            "RangeIndex: 21634 entries, 0 to 21633\n",
            "Data columns (total 11 columns):\n",
            " #   Column             Non-Null Count  Dtype \n",
            "---  ------             --------------  ----- \n",
            " 0   ANO                21634 non-null  int64 \n",
            " 1   MES                21634 non-null  int64 \n",
            " 2   SENADOR            21634 non-null  object\n",
            " 3   TIPO_DESPESA       21634 non-null  object\n",
            " 4   CNPJ_CPF           21634 non-null  object\n",
            " 5   FORNECEDOR         21634 non-null  object\n",
            " 6   DOCUMENTO          20900 non-null  object\n",
            " 7   DATA               21634 non-null  object\n",
            " 8   DETALHAMENTO       13092 non-null  object\n",
            " 9   VALOR_REEMBOLSADO  21634 non-null  object\n",
            " 10  COD_DOCUMENTO      21634 non-null  int64 \n",
            "dtypes: int64(3), object(8)\n",
            "memory usage: 1.8+ MB\n"
          ]
        }
      ]
    },
    {
      "cell_type": "code",
      "source": [
        "ceaps_18.info()"
      ],
      "metadata": {
        "colab": {
          "base_uri": "https://localhost:8080/"
        },
        "id": "AJ6f4ZHEkTVN",
        "outputId": "9ae03fdc-7a7e-499c-a591-e6b76716ce07"
      },
      "execution_count": 33,
      "outputs": [
        {
          "output_type": "stream",
          "name": "stdout",
          "text": [
            "<class 'pandas.core.frame.DataFrame'>\n",
            "RangeIndex: 24492 entries, 0 to 24491\n",
            "Data columns (total 11 columns):\n",
            " #   Column             Non-Null Count  Dtype \n",
            "---  ------             --------------  ----- \n",
            " 0   ANO                24492 non-null  int64 \n",
            " 1   MES                24492 non-null  int64 \n",
            " 2   SENADOR            24492 non-null  object\n",
            " 3   TIPO_DESPESA       24492 non-null  object\n",
            " 4   CNPJ_CPF           24492 non-null  object\n",
            " 5   FORNECEDOR         24492 non-null  object\n",
            " 6   DOCUMENTO          23476 non-null  object\n",
            " 7   DATA               24492 non-null  object\n",
            " 8   DETALHAMENTO       18882 non-null  object\n",
            " 9   VALOR_REEMBOLSADO  24492 non-null  object\n",
            " 10  COD_DOCUMENTO      24492 non-null  int64 \n",
            "dtypes: int64(3), object(8)\n",
            "memory usage: 2.1+ MB\n"
          ]
        }
      ]
    },
    {
      "cell_type": "markdown",
      "source": [
        "# Unindo os Datasets\n",
        "\n",
        "Após confirmar que as bases de dados estão no mesmo padrão. Unifiquei elas em um mesmo DataFrame, facilitando a transformação e limpeza de dados."
      ],
      "metadata": {
        "id": "T6pYMdGSmFkU"
      }
    },
    {
      "cell_type": "code",
      "source": [
        "ceaps_total=[ceaps_21,ceaps_20,ceaps_19,ceaps_18]\n",
        "\n",
        "ceaps = pd.concat(ceaps_total)\n",
        "\n",
        "ceaps.head(3)"
      ],
      "metadata": {
        "colab": {
          "base_uri": "https://localhost:8080/",
          "height": 381
        },
        "id": "94b6nhhwkl6k",
        "outputId": "3137c811-cb98-49e6-89e5-5b5e236dfc1e"
      },
      "execution_count": 34,
      "outputs": [
        {
          "output_type": "execute_result",
          "data": {
            "text/plain": [
              "    ANO  MES       SENADOR                                       TIPO_DESPESA  \\\n",
              "0  2021    1  ACIR GURGACZ  Aluguel de imóveis para escritório político, c...   \n",
              "1  2021    1  ACIR GURGACZ  Aluguel de imóveis para escritório político, c...   \n",
              "2  2021    1  ACIR GURGACZ  Aluguel de imóveis para escritório político, c...   \n",
              "\n",
              "             CNPJ_CPF                                         FORNECEDOR  \\\n",
              "0  05.914.650/0001-66                                           ENERGISA   \n",
              "1      062.135.728-64  FERNANDO WALDEIR PACINI e ANA LUCIA DA SILVA S...   \n",
              "2      004.948.028-63                      GILBERTO PISELO DO NASCIMENTO   \n",
              "\n",
              "     DOCUMENTO        DATA                                       DETALHAMENTO  \\\n",
              "0  023.489.627  21/01/2021  Pagamento de energia elétrica para uso do escr...   \n",
              "1      01/2021  05/01/2021  Despesa com pagamento de aluguel de imóvel par...   \n",
              "2       001/21  06/01/2021  Despesa com aluguel de imóvel para uso do escr...   \n",
              "\n",
              "  VALOR_REEMBOLSADO  COD_DOCUMENTO  \n",
              "0             75,29        2158003  \n",
              "1              1000        2157367  \n",
              "2              6000        2156383  "
            ],
            "text/html": [
              "\n",
              "  <div id=\"df-34c4656e-a19c-4087-9b06-5107cf6018af\">\n",
              "    <div class=\"colab-df-container\">\n",
              "      <div>\n",
              "<style scoped>\n",
              "    .dataframe tbody tr th:only-of-type {\n",
              "        vertical-align: middle;\n",
              "    }\n",
              "\n",
              "    .dataframe tbody tr th {\n",
              "        vertical-align: top;\n",
              "    }\n",
              "\n",
              "    .dataframe thead th {\n",
              "        text-align: right;\n",
              "    }\n",
              "</style>\n",
              "<table border=\"1\" class=\"dataframe\">\n",
              "  <thead>\n",
              "    <tr style=\"text-align: right;\">\n",
              "      <th></th>\n",
              "      <th>ANO</th>\n",
              "      <th>MES</th>\n",
              "      <th>SENADOR</th>\n",
              "      <th>TIPO_DESPESA</th>\n",
              "      <th>CNPJ_CPF</th>\n",
              "      <th>FORNECEDOR</th>\n",
              "      <th>DOCUMENTO</th>\n",
              "      <th>DATA</th>\n",
              "      <th>DETALHAMENTO</th>\n",
              "      <th>VALOR_REEMBOLSADO</th>\n",
              "      <th>COD_DOCUMENTO</th>\n",
              "    </tr>\n",
              "  </thead>\n",
              "  <tbody>\n",
              "    <tr>\n",
              "      <th>0</th>\n",
              "      <td>2021</td>\n",
              "      <td>1</td>\n",
              "      <td>ACIR GURGACZ</td>\n",
              "      <td>Aluguel de imóveis para escritório político, c...</td>\n",
              "      <td>05.914.650/0001-66</td>\n",
              "      <td>ENERGISA</td>\n",
              "      <td>023.489.627</td>\n",
              "      <td>21/01/2021</td>\n",
              "      <td>Pagamento de energia elétrica para uso do escr...</td>\n",
              "      <td>75,29</td>\n",
              "      <td>2158003</td>\n",
              "    </tr>\n",
              "    <tr>\n",
              "      <th>1</th>\n",
              "      <td>2021</td>\n",
              "      <td>1</td>\n",
              "      <td>ACIR GURGACZ</td>\n",
              "      <td>Aluguel de imóveis para escritório político, c...</td>\n",
              "      <td>062.135.728-64</td>\n",
              "      <td>FERNANDO WALDEIR PACINI e ANA LUCIA DA SILVA S...</td>\n",
              "      <td>01/2021</td>\n",
              "      <td>05/01/2021</td>\n",
              "      <td>Despesa com pagamento de aluguel de imóvel par...</td>\n",
              "      <td>1000</td>\n",
              "      <td>2157367</td>\n",
              "    </tr>\n",
              "    <tr>\n",
              "      <th>2</th>\n",
              "      <td>2021</td>\n",
              "      <td>1</td>\n",
              "      <td>ACIR GURGACZ</td>\n",
              "      <td>Aluguel de imóveis para escritório político, c...</td>\n",
              "      <td>004.948.028-63</td>\n",
              "      <td>GILBERTO PISELO DO NASCIMENTO</td>\n",
              "      <td>001/21</td>\n",
              "      <td>06/01/2021</td>\n",
              "      <td>Despesa com aluguel de imóvel para uso do escr...</td>\n",
              "      <td>6000</td>\n",
              "      <td>2156383</td>\n",
              "    </tr>\n",
              "  </tbody>\n",
              "</table>\n",
              "</div>\n",
              "      <button class=\"colab-df-convert\" onclick=\"convertToInteractive('df-34c4656e-a19c-4087-9b06-5107cf6018af')\"\n",
              "              title=\"Convert this dataframe to an interactive table.\"\n",
              "              style=\"display:none;\">\n",
              "        \n",
              "  <svg xmlns=\"http://www.w3.org/2000/svg\" height=\"24px\"viewBox=\"0 0 24 24\"\n",
              "       width=\"24px\">\n",
              "    <path d=\"M0 0h24v24H0V0z\" fill=\"none\"/>\n",
              "    <path d=\"M18.56 5.44l.94 2.06.94-2.06 2.06-.94-2.06-.94-.94-2.06-.94 2.06-2.06.94zm-11 1L8.5 8.5l.94-2.06 2.06-.94-2.06-.94L8.5 2.5l-.94 2.06-2.06.94zm10 10l.94 2.06.94-2.06 2.06-.94-2.06-.94-.94-2.06-.94 2.06-2.06.94z\"/><path d=\"M17.41 7.96l-1.37-1.37c-.4-.4-.92-.59-1.43-.59-.52 0-1.04.2-1.43.59L10.3 9.45l-7.72 7.72c-.78.78-.78 2.05 0 2.83L4 21.41c.39.39.9.59 1.41.59.51 0 1.02-.2 1.41-.59l7.78-7.78 2.81-2.81c.8-.78.8-2.07 0-2.86zM5.41 20L4 18.59l7.72-7.72 1.47 1.35L5.41 20z\"/>\n",
              "  </svg>\n",
              "      </button>\n",
              "      \n",
              "  <style>\n",
              "    .colab-df-container {\n",
              "      display:flex;\n",
              "      flex-wrap:wrap;\n",
              "      gap: 12px;\n",
              "    }\n",
              "\n",
              "    .colab-df-convert {\n",
              "      background-color: #E8F0FE;\n",
              "      border: none;\n",
              "      border-radius: 50%;\n",
              "      cursor: pointer;\n",
              "      display: none;\n",
              "      fill: #1967D2;\n",
              "      height: 32px;\n",
              "      padding: 0 0 0 0;\n",
              "      width: 32px;\n",
              "    }\n",
              "\n",
              "    .colab-df-convert:hover {\n",
              "      background-color: #E2EBFA;\n",
              "      box-shadow: 0px 1px 2px rgba(60, 64, 67, 0.3), 0px 1px 3px 1px rgba(60, 64, 67, 0.15);\n",
              "      fill: #174EA6;\n",
              "    }\n",
              "\n",
              "    [theme=dark] .colab-df-convert {\n",
              "      background-color: #3B4455;\n",
              "      fill: #D2E3FC;\n",
              "    }\n",
              "\n",
              "    [theme=dark] .colab-df-convert:hover {\n",
              "      background-color: #434B5C;\n",
              "      box-shadow: 0px 1px 3px 1px rgba(0, 0, 0, 0.15);\n",
              "      filter: drop-shadow(0px 1px 2px rgba(0, 0, 0, 0.3));\n",
              "      fill: #FFFFFF;\n",
              "    }\n",
              "  </style>\n",
              "\n",
              "      <script>\n",
              "        const buttonEl =\n",
              "          document.querySelector('#df-34c4656e-a19c-4087-9b06-5107cf6018af button.colab-df-convert');\n",
              "        buttonEl.style.display =\n",
              "          google.colab.kernel.accessAllowed ? 'block' : 'none';\n",
              "\n",
              "        async function convertToInteractive(key) {\n",
              "          const element = document.querySelector('#df-34c4656e-a19c-4087-9b06-5107cf6018af');\n",
              "          const dataTable =\n",
              "            await google.colab.kernel.invokeFunction('convertToInteractive',\n",
              "                                                     [key], {});\n",
              "          if (!dataTable) return;\n",
              "\n",
              "          const docLinkHtml = 'Like what you see? Visit the ' +\n",
              "            '<a target=\"_blank\" href=https://colab.research.google.com/notebooks/data_table.ipynb>data table notebook</a>'\n",
              "            + ' to learn more about interactive tables.';\n",
              "          element.innerHTML = '';\n",
              "          dataTable['output_type'] = 'display_data';\n",
              "          await google.colab.output.renderOutput(dataTable, element);\n",
              "          const docLink = document.createElement('div');\n",
              "          docLink.innerHTML = docLinkHtml;\n",
              "          element.appendChild(docLink);\n",
              "        }\n",
              "      </script>\n",
              "    </div>\n",
              "  </div>\n",
              "  "
            ]
          },
          "metadata": {},
          "execution_count": 34
        }
      ]
    },
    {
      "cell_type": "markdown",
      "source": [
        "# Renomeando as colunas do DataFrame\n",
        "\n",
        "O nome das colunas estão objetivas, mas irei deixa-las em letra minuscula para facilitar a escrita.\n"
      ],
      "metadata": {
        "id": "RhVHmQ8KEOll"
      }
    },
    {
      "cell_type": "code",
      "source": [
        "columns=['ano','mes','senador','tipo_despesa','cnpj_cpf','fornecedor',\\\n",
        "         'documento','data','detalhamento','valor_reembolsado','cod_documento']\n",
        "\n",
        "ceaps.set_axis(columns,axis='columns',inplace=True)\n",
        "ceaps.columns"
      ],
      "metadata": {
        "colab": {
          "base_uri": "https://localhost:8080/"
        },
        "id": "H29BXJN6EhUF",
        "outputId": "df0782b7-5def-457f-c5ec-a1b1b1a223c9"
      },
      "execution_count": 35,
      "outputs": [
        {
          "output_type": "execute_result",
          "data": {
            "text/plain": [
              "Index(['ano', 'mes', 'senador', 'tipo_despesa', 'cnpj_cpf', 'fornecedor',\n",
              "       'documento', 'data', 'detalhamento', 'valor_reembolsado',\n",
              "       'cod_documento'],\n",
              "      dtype='object')"
            ]
          },
          "metadata": {},
          "execution_count": 35
        }
      ]
    },
    {
      "cell_type": "markdown",
      "source": [
        "# Analisando as informações Nulas no DataFrame\n",
        "\n",
        "df.info()\n",
        "\n",
        "É uma ótima maneira de verificar a sua base de dados. Com ele, é possível ver o tipo de formato por coluna e quais colunas possuem valoes nulos."
      ],
      "metadata": {
        "id": "HrOmBco6n0q4"
      }
    },
    {
      "cell_type": "code",
      "source": [
        "ceaps.info()"
      ],
      "metadata": {
        "colab": {
          "base_uri": "https://localhost:8080/"
        },
        "id": "nLYUV_8il35G",
        "outputId": "085bda5e-48a7-4476-b3f1-7ec6f8873726"
      },
      "execution_count": 36,
      "outputs": [
        {
          "output_type": "stream",
          "name": "stdout",
          "text": [
            "<class 'pandas.core.frame.DataFrame'>\n",
            "Int64Index: 77024 entries, 0 to 24491\n",
            "Data columns (total 11 columns):\n",
            " #   Column             Non-Null Count  Dtype \n",
            "---  ------             --------------  ----- \n",
            " 0   ano                77024 non-null  int64 \n",
            " 1   mes                77024 non-null  int64 \n",
            " 2   senador            77024 non-null  object\n",
            " 3   tipo_despesa       77024 non-null  object\n",
            " 4   cnpj_cpf           77024 non-null  object\n",
            " 5   fornecedor         77024 non-null  object\n",
            " 6   documento          73979 non-null  object\n",
            " 7   data               77024 non-null  object\n",
            " 8   detalhamento       48395 non-null  object\n",
            " 9   valor_reembolsado  77024 non-null  object\n",
            " 10  cod_documento      77024 non-null  int64 \n",
            "dtypes: int64(3), object(8)\n",
            "memory usage: 7.1+ MB\n"
          ]
        }
      ]
    },
    {
      "cell_type": "code",
      "source": [
        "print('Informações faltantes na coluna Documento:',round(((80773-77562)/80773)*100,2),'%')\n",
        "\n",
        "print('Informações faltantes na coluna Detalhamento:',round(((80773-50302)/80773)*100,2),'%')"
      ],
      "metadata": {
        "colab": {
          "base_uri": "https://localhost:8080/"
        },
        "id": "eOsYbBvsmxK1",
        "outputId": "d8d2489b-8afb-4b7e-9528-4d7ffc2b2d5a"
      },
      "execution_count": 37,
      "outputs": [
        {
          "output_type": "stream",
          "name": "stdout",
          "text": [
            "Informações faltantes na coluna Documento: 3.98 %\n",
            "Informações faltantes na coluna Detalhamento: 37.72 %\n"
          ]
        }
      ]
    },
    {
      "cell_type": "markdown",
      "source": [
        "## *Problema 02*\n",
        "\n",
        "No momento da alteração do tipo de dado string (texto) para float (valor flotuante). Apresentou erro, pois na coluna há valores de reembolso com centavos representados pela **vírgula**. <p>\n",
        "\n",
        "Para o Python, a vírgula representa separação para valores a partir de mil e valores decimais são representados por ponto final. Por ex: 1,850.63\n",
        "\n",
        "\n",
        "Para resolver este problema. Utilizei str.replace('x','y')\n",
        "\n",
        "str -  informar que o tipo de dado é texto\n",
        "replace('x','y') - substituir o valor antigo 'x' para o valor novo 'y'\n",
        "\n"
      ],
      "metadata": {
        "id": "iqgCEnVvrr-7"
      }
    },
    {
      "cell_type": "code",
      "source": [
        "ceaps['valor_reembolsado']=ceaps.valor_reembolsado.str.replace(',','.')\n",
        "\n",
        "ceaps.valor_reembolsado.unique()"
      ],
      "metadata": {
        "colab": {
          "base_uri": "https://localhost:8080/"
        },
        "id": "0k0ylXINm-HT",
        "outputId": "4b5311a2-69c6-456c-e318-487b51b8eb40"
      },
      "execution_count": 38,
      "outputs": [
        {
          "output_type": "execute_result",
          "data": {
            "text/plain": [
              "array(['75.29', '1000', '6000', ..., '486.25', '1132.69', '1260.45'],\n",
              "      dtype=object)"
            ]
          },
          "metadata": {},
          "execution_count": 38
        }
      ]
    },
    {
      "cell_type": "code",
      "source": [
        "ceaps['valor_reembolsado']=  ceaps.valor_reembolsado.astype('float64',copy=False)\n",
        "ceaps.info()"
      ],
      "metadata": {
        "colab": {
          "base_uri": "https://localhost:8080/"
        },
        "id": "jz8fy4mSphJt",
        "outputId": "0aad97f3-f4c5-44d3-bc68-7729af28fa5d"
      },
      "execution_count": 39,
      "outputs": [
        {
          "output_type": "stream",
          "name": "stdout",
          "text": [
            "<class 'pandas.core.frame.DataFrame'>\n",
            "Int64Index: 77024 entries, 0 to 24491\n",
            "Data columns (total 11 columns):\n",
            " #   Column             Non-Null Count  Dtype  \n",
            "---  ------             --------------  -----  \n",
            " 0   ano                77024 non-null  int64  \n",
            " 1   mes                77024 non-null  int64  \n",
            " 2   senador            77024 non-null  object \n",
            " 3   tipo_despesa       77024 non-null  object \n",
            " 4   cnpj_cpf           77024 non-null  object \n",
            " 5   fornecedor         77024 non-null  object \n",
            " 6   documento          73979 non-null  object \n",
            " 7   data               77024 non-null  object \n",
            " 8   detalhamento       48395 non-null  object \n",
            " 9   valor_reembolsado  77024 non-null  float64\n",
            " 10  cod_documento      77024 non-null  int64  \n",
            "dtypes: float64(1), int64(3), object(7)\n",
            "memory usage: 7.1+ MB\n"
          ]
        }
      ]
    },
    {
      "cell_type": "markdown",
      "source": [
        "# Valores Nulos\n",
        "\n",
        "Substitui os valores nulos por \"sem_dados\". Pois pretendo analisar quais são os representantes publicos que possuem maior quantidade de dados faltantes e quanto isso representa."
      ],
      "metadata": {
        "id": "SRoaRnsOFghu"
      }
    },
    {
      "cell_type": "code",
      "source": [
        "ceaps['detalhamento'] = ceaps.detalhamento.replace(np.nan,'sem_dados')\n",
        "ceaps[ceaps.detalhamento=='sem_dados'].detalhamento.count()"
      ],
      "metadata": {
        "colab": {
          "base_uri": "https://localhost:8080/"
        },
        "id": "4_l6FsoeiZuh",
        "outputId": "fe981c7d-e6e0-41d4-ff19-093c829a2bf6"
      },
      "execution_count": 40,
      "outputs": [
        {
          "output_type": "execute_result",
          "data": {
            "text/plain": [
              "28629"
            ]
          },
          "metadata": {},
          "execution_count": 40
        }
      ]
    },
    {
      "cell_type": "code",
      "source": [
        "ceaps.detalhamento"
      ],
      "metadata": {
        "colab": {
          "base_uri": "https://localhost:8080/"
        },
        "id": "1SHqMOBmDZFV",
        "outputId": "37b7449a-76ae-4a12-fefa-24999702f34e"
      },
      "execution_count": 41,
      "outputs": [
        {
          "output_type": "execute_result",
          "data": {
            "text/plain": [
              "0        Pagamento de energia elétrica para uso do escr...\n",
              "1        Despesa com pagamento de aluguel de imóvel par...\n",
              "2        Despesa com aluguel de imóvel para uso do escr...\n",
              "3                      Divulgação da atividade parlamentar\n",
              "4                      Divulgação da atividade parlamentar\n",
              "                               ...                        \n",
              "24487                                            sem_dados\n",
              "24488                                            sem_dados\n",
              "24489                                            sem_dados\n",
              "24490    Companhia Aérea: AZUL, Localizador: CI5PSK. Pa...\n",
              "24491    Companhia Aérea: LATAM, Localizador: OHNRAG. P...\n",
              "Name: detalhamento, Length: 77024, dtype: object"
            ]
          },
          "metadata": {},
          "execution_count": 41
        }
      ]
    },
    {
      "cell_type": "code",
      "source": [
        "\n",
        "plt.figure(figsize=(12,6))\n",
        "ceaps[ceaps.detalhamento == 'sem_dados']\\\n",
        ".groupby(by=('ano'))['valor_reembolsado']\\\n",
        ".sum().plot.bar()\n",
        "plt.xticks(rotation=45,ha='right');\n",
        "plt.ylabel('Gastos em mi R$',size=13)\n",
        "plt.xlabel('Anos',size=13)\n",
        "plt.title('Valores Reembolsados Sem Detalhe da Despesa Acumulado', size=18);"
      ],
      "metadata": {
        "colab": {
          "base_uri": "https://localhost:8080/",
          "height": 426
        },
        "id": "IrM7KGL3HP5c",
        "outputId": "606630c6-3d6b-4e93-e610-2d7ca540fe46"
      },
      "execution_count": 44,
      "outputs": [
        {
          "output_type": "display_data",
          "data": {
            "text/plain": [
              "<Figure size 864x432 with 1 Axes>"
            ],
            "image/png": "[encoded data removed]"
          },
          "metadata": {
            "needs_background": "light"
          }
        }
      ]
    },
    {
      "cell_type": "code",
      "source": [
        ""
      ],
      "metadata": {
        "id": "Uzl838Dk_s6D"
      },
      "execution_count": null,
      "outputs": []
    }
  ]
}