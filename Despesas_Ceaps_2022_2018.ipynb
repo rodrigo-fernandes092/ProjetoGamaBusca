{
  "nbformat": 4,
  "nbformat_minor": 0,
  "metadata": {
    "colab": {
      "name": "Despesas_Ceaps_2022-2018.ipynb",
      "provenance": [],
      "authorship_tag": "ABX9TyMIOwlNHfYI9TBNfc3kRRp6",
      "include_colab_link": true
    },
    "kernelspec": {
      "name": "python3",
      "display_name": "Python 3"
    },
    "language_info": {
      "name": "python"
    }
  },
  "cells": [
    {
      "cell_type": "markdown",
      "metadata": {
        "id": "view-in-github",
        "colab_type": "text"
      },
      "source": [
        "<a href=\"https://colab.research.google.com/github/rodrigo-fernandes092/ProjetoGamaBusca/blob/main/Despesas_Ceaps_2022_2018.ipynb\" target=\"_parent\"><img src=\"https://colab.research.google.com/assets/colab-badge.svg\" alt=\"Open In Colab\"/></a>"
      ]
    },
    {
      "cell_type": "code",
      "execution_count": null,
      "metadata": {
        "id": "-azD3DhAebX3"
      },
      "outputs": [],
      "source": [
        "import pandas as pd\n",
        "import numpy as np\n",
        "import matplotlib.pyplot as plt\n"
      ]
    },
    {
      "cell_type": "markdown",
      "source": [
        "# Problema 01\n",
        "\n",
        "No momento que rodei para ler o arquivo, apareceu o erro \"'utf-8' codec can't decode byte 0xf3 in position 213: invalid continuation byte\".\n",
        "\n",
        "Consegui resolver definindo o sep=';',header=0,encoding='cp1252'\n",
        "\n",
        "O encoding foi mais difícil de achar, havia tentado outros como 'latin1', 'iso-8859-1' e 'utf-8' mas sem sucesso. Até conseguir o código 'cp1252' que resolveu o meu problema.\n"
      ],
      "metadata": {
        "id": "RPlFPDKyhm47"
      }
    },
    {
      "cell_type": "code",
      "source": [
        "ceaps_22 = pd.read_csv('despesa_ceaps_2022.csv',sep=';',header=1,encoding='cp1252')\n",
        "ceaps_21 = pd.read_csv('despesa_ceaps_2021.csv',sep=';',header=1,encoding='cp1252')\n",
        "ceaps_20 = pd.read_csv('despesa_ceaps_2020.csv',sep=';',header=1,encoding='cp1252')\n",
        "ceaps_19 = pd.read_csv('despesa_ceaps_2019.csv',sep=';',header=1,encoding='cp1252')\n",
        "ceaps_18 = pd.read_csv('despesa_ceaps_2018.csv',sep=';',header=1,encoding='cp1252')\n",
        "\n"
      ],
      "metadata": {
        "id": "X5OECaMhe-da"
      },
      "execution_count": null,
      "outputs": []
    },
    {
      "cell_type": "markdown",
      "source": [
        "# Checando os datasets\n",
        "Verificando se as bases de dados estão com os mesmos formatos e tipo de dados\n"
      ],
      "metadata": {
        "id": "BW4jpUehknKe"
      }
    },
    {
      "cell_type": "code",
      "source": [
        "ceaps_22.info()"
      ],
      "metadata": {
        "colab": {
          "base_uri": "https://localhost:8080/"
        },
        "id": "yuPX85fofq1y",
        "outputId": "96dd6a86-0fcc-4b0b-98cd-0b1014607cd8"
      },
      "execution_count": null,
      "outputs": [
        {
          "output_type": "stream",
          "name": "stdout",
          "text": [
            "<class 'pandas.core.frame.DataFrame'>\n",
            "RangeIndex: 3749 entries, 0 to 3748\n",
            "Data columns (total 11 columns):\n",
            " #   Column             Non-Null Count  Dtype \n",
            "---  ------             --------------  ----- \n",
            " 0   ANO                3749 non-null   int64 \n",
            " 1   MES                3749 non-null   int64 \n",
            " 2   SENADOR            3749 non-null   object\n",
            " 3   TIPO_DESPESA       3749 non-null   object\n",
            " 4   CNPJ_CPF           3749 non-null   object\n",
            " 5   FORNECEDOR         3749 non-null   object\n",
            " 6   DOCUMENTO          3583 non-null   object\n",
            " 7   DATA               3749 non-null   object\n",
            " 8   DETALHAMENTO       1907 non-null   object\n",
            " 9   VALOR_REEMBOLSADO  3749 non-null   object\n",
            " 10  COD_DOCUMENTO      3749 non-null   int64 \n",
            "dtypes: int64(3), object(8)\n",
            "memory usage: 322.3+ KB\n"
          ]
        }
      ]
    },
    {
      "cell_type": "code",
      "source": [
        "ceaps_21.info()"
      ],
      "metadata": {
        "colab": {
          "base_uri": "https://localhost:8080/"
        },
        "id": "a0b50liohj-h",
        "outputId": "cdc56db5-8dad-4407-bdae-bd4fb8a84311"
      },
      "execution_count": null,
      "outputs": [
        {
          "output_type": "stream",
          "name": "stdout",
          "text": [
            "<class 'pandas.core.frame.DataFrame'>\n",
            "RangeIndex: 16808 entries, 0 to 16807\n",
            "Data columns (total 11 columns):\n",
            " #   Column             Non-Null Count  Dtype \n",
            "---  ------             --------------  ----- \n",
            " 0   ANO                16808 non-null  int64 \n",
            " 1   MES                16808 non-null  int64 \n",
            " 2   SENADOR            16808 non-null  object\n",
            " 3   TIPO_DESPESA       16808 non-null  object\n",
            " 4   CNPJ_CPF           16808 non-null  object\n",
            " 5   FORNECEDOR         16808 non-null  object\n",
            " 6   DOCUMENTO          16133 non-null  object\n",
            " 7   DATA               16808 non-null  object\n",
            " 8   DETALHAMENTO       9193 non-null   object\n",
            " 9   VALOR_REEMBOLSADO  16808 non-null  object\n",
            " 10  COD_DOCUMENTO      16808 non-null  int64 \n",
            "dtypes: int64(3), object(8)\n",
            "memory usage: 1.4+ MB\n"
          ]
        }
      ]
    },
    {
      "cell_type": "code",
      "source": [
        "ceaps_20.info()"
      ],
      "metadata": {
        "colab": {
          "base_uri": "https://localhost:8080/"
        },
        "id": "XJkuvbVdkOzN",
        "outputId": "9b9fac18-f696-4824-e9d4-a488fe101fe7"
      },
      "execution_count": null,
      "outputs": [
        {
          "output_type": "stream",
          "name": "stdout",
          "text": [
            "<class 'pandas.core.frame.DataFrame'>\n",
            "RangeIndex: 14090 entries, 0 to 14089\n",
            "Data columns (total 11 columns):\n",
            " #   Column             Non-Null Count  Dtype \n",
            "---  ------             --------------  ----- \n",
            " 0   ANO                14090 non-null  int64 \n",
            " 1   MES                14090 non-null  int64 \n",
            " 2   SENADOR            14090 non-null  object\n",
            " 3   TIPO_DESPESA       14090 non-null  object\n",
            " 4   CNPJ_CPF           14090 non-null  object\n",
            " 5   FORNECEDOR         14090 non-null  object\n",
            " 6   DOCUMENTO          13470 non-null  object\n",
            " 7   DATA               14090 non-null  object\n",
            " 8   DETALHAMENTO       7228 non-null   object\n",
            " 9   VALOR_REEMBOLSADO  14090 non-null  object\n",
            " 10  COD_DOCUMENTO      14090 non-null  int64 \n",
            "dtypes: int64(3), object(8)\n",
            "memory usage: 1.2+ MB\n"
          ]
        }
      ]
    },
    {
      "cell_type": "code",
      "source": [
        "ceaps_19.info()"
      ],
      "metadata": {
        "colab": {
          "base_uri": "https://localhost:8080/"
        },
        "id": "_gLo-dKzkQa2",
        "outputId": "8ccd289b-fc22-4c8f-8dc1-c24cb1948c7c"
      },
      "execution_count": null,
      "outputs": [
        {
          "output_type": "stream",
          "name": "stdout",
          "text": [
            "<class 'pandas.core.frame.DataFrame'>\n",
            "RangeIndex: 21634 entries, 0 to 21633\n",
            "Data columns (total 11 columns):\n",
            " #   Column             Non-Null Count  Dtype \n",
            "---  ------             --------------  ----- \n",
            " 0   ANO                21634 non-null  int64 \n",
            " 1   MES                21634 non-null  int64 \n",
            " 2   SENADOR            21634 non-null  object\n",
            " 3   TIPO_DESPESA       21634 non-null  object\n",
            " 4   CNPJ_CPF           21634 non-null  object\n",
            " 5   FORNECEDOR         21634 non-null  object\n",
            " 6   DOCUMENTO          20900 non-null  object\n",
            " 7   DATA               21634 non-null  object\n",
            " 8   DETALHAMENTO       13092 non-null  object\n",
            " 9   VALOR_REEMBOLSADO  21634 non-null  object\n",
            " 10  COD_DOCUMENTO      21634 non-null  int64 \n",
            "dtypes: int64(3), object(8)\n",
            "memory usage: 1.8+ MB\n"
          ]
        }
      ]
    },
    {
      "cell_type": "code",
      "source": [
        "ceaps_18.info()"
      ],
      "metadata": {
        "colab": {
          "base_uri": "https://localhost:8080/"
        },
        "id": "AJ6f4ZHEkTVN",
        "outputId": "455ecaea-8c2a-4904-ee0f-cfead879b246"
      },
      "execution_count": null,
      "outputs": [
        {
          "output_type": "stream",
          "name": "stdout",
          "text": [
            "<class 'pandas.core.frame.DataFrame'>\n",
            "RangeIndex: 24492 entries, 0 to 24491\n",
            "Data columns (total 11 columns):\n",
            " #   Column             Non-Null Count  Dtype \n",
            "---  ------             --------------  ----- \n",
            " 0   ANO                24492 non-null  int64 \n",
            " 1   MES                24492 non-null  int64 \n",
            " 2   SENADOR            24492 non-null  object\n",
            " 3   TIPO_DESPESA       24492 non-null  object\n",
            " 4   CNPJ_CPF           24492 non-null  object\n",
            " 5   FORNECEDOR         24492 non-null  object\n",
            " 6   DOCUMENTO          23476 non-null  object\n",
            " 7   DATA               24492 non-null  object\n",
            " 8   DETALHAMENTO       18882 non-null  object\n",
            " 9   VALOR_REEMBOLSADO  24492 non-null  object\n",
            " 10  COD_DOCUMENTO      24492 non-null  int64 \n",
            "dtypes: int64(3), object(8)\n",
            "memory usage: 2.1+ MB\n"
          ]
        }
      ]
    },
    {
      "cell_type": "markdown",
      "source": [
        "# Unindo os Datasets\n",
        "\n",
        "Após confirmar que as bases de dados estão no mesmo padrão. Unifiquei elas em um mesmo DataFrame, facilitando a transformação e limpeza de dados."
      ],
      "metadata": {
        "id": "T6pYMdGSmFkU"
      }
    },
    {
      "cell_type": "code",
      "source": [
        "ceaps_total=[ceaps_22,ceaps_21,ceaps_20,ceaps_19,ceaps_18]\n",
        "\n",
        "ceaps = pd.concat(ceaps_total)\n",
        "\n",
        "ceaps.head(3)"
      ],
      "metadata": {
        "colab": {
          "base_uri": "https://localhost:8080/",
          "height": 326
        },
        "id": "94b6nhhwkl6k",
        "outputId": "7d03a0fe-537e-48f4-90eb-add26ab3cfe8"
      },
      "execution_count": null,
      "outputs": [
        {
          "output_type": "execute_result",
          "data": {
            "text/plain": [
              "    ANO  MES       SENADOR                                       TIPO_DESPESA  \\\n",
              "0  2022    1  ACIR GURGACZ  Aluguel de imóveis para escritório político, c...   \n",
              "1  2022    1  ACIR GURGACZ                Divulgação da atividade parlamentar   \n",
              "2  2022    1  ACIR GURGACZ                Divulgação da atividade parlamentar   \n",
              "\n",
              "             CNPJ_CPF                       FORNECEDOR          DOCUMENTO  \\\n",
              "0      004.948.028-63    GILBERTO PISELO DO NASCIMENTO             001/22   \n",
              "1  26.320.603/0001-64                    INFORMANAHORA  000000000000310/A   \n",
              "2  13.659.201/0001-47  LINHA PURPURA FOTO E VIDEO LTDA                107   \n",
              "\n",
              "         DATA                                       DETALHAMENTO  \\\n",
              "0  03/01/2022  Despesa com pagamento de aluguel de imóvel par...   \n",
              "1  04/01/2022  Despesa com divulgação da atividade parlamenta...   \n",
              "2  14/01/2022  Despesa com produção de texto e edição de víde...   \n",
              "\n",
              "  VALOR_REEMBOLSADO  COD_DOCUMENTO  \n",
              "0              6000        2173614  \n",
              "1              1500        2173615  \n",
              "2              6000        2173616  "
            ],
            "text/html": [
              "\n",
              "  <div id=\"df-cdf0cf66-1c7a-4db2-9e6d-70326f85b308\">\n",
              "    <div class=\"colab-df-container\">\n",
              "      <div>\n",
              "<style scoped>\n",
              "    .dataframe tbody tr th:only-of-type {\n",
              "        vertical-align: middle;\n",
              "    }\n",
              "\n",
              "    .dataframe tbody tr th {\n",
              "        vertical-align: top;\n",
              "    }\n",
              "\n",
              "    .dataframe thead th {\n",
              "        text-align: right;\n",
              "    }\n",
              "</style>\n",
              "<table border=\"1\" class=\"dataframe\">\n",
              "  <thead>\n",
              "    <tr style=\"text-align: right;\">\n",
              "      <th></th>\n",
              "      <th>ANO</th>\n",
              "      <th>MES</th>\n",
              "      <th>SENADOR</th>\n",
              "      <th>TIPO_DESPESA</th>\n",
              "      <th>CNPJ_CPF</th>\n",
              "      <th>FORNECEDOR</th>\n",
              "      <th>DOCUMENTO</th>\n",
              "      <th>DATA</th>\n",
              "      <th>DETALHAMENTO</th>\n",
              "      <th>VALOR_REEMBOLSADO</th>\n",
              "      <th>COD_DOCUMENTO</th>\n",
              "    </tr>\n",
              "  </thead>\n",
              "  <tbody>\n",
              "    <tr>\n",
              "      <th>0</th>\n",
              "      <td>2022</td>\n",
              "      <td>1</td>\n",
              "      <td>ACIR GURGACZ</td>\n",
              "      <td>Aluguel de imóveis para escritório político, c...</td>\n",
              "      <td>004.948.028-63</td>\n",
              "      <td>GILBERTO PISELO DO NASCIMENTO</td>\n",
              "      <td>001/22</td>\n",
              "      <td>03/01/2022</td>\n",
              "      <td>Despesa com pagamento de aluguel de imóvel par...</td>\n",
              "      <td>6000</td>\n",
              "      <td>2173614</td>\n",
              "    </tr>\n",
              "    <tr>\n",
              "      <th>1</th>\n",
              "      <td>2022</td>\n",
              "      <td>1</td>\n",
              "      <td>ACIR GURGACZ</td>\n",
              "      <td>Divulgação da atividade parlamentar</td>\n",
              "      <td>26.320.603/0001-64</td>\n",
              "      <td>INFORMANAHORA</td>\n",
              "      <td>000000000000310/A</td>\n",
              "      <td>04/01/2022</td>\n",
              "      <td>Despesa com divulgação da atividade parlamenta...</td>\n",
              "      <td>1500</td>\n",
              "      <td>2173615</td>\n",
              "    </tr>\n",
              "    <tr>\n",
              "      <th>2</th>\n",
              "      <td>2022</td>\n",
              "      <td>1</td>\n",
              "      <td>ACIR GURGACZ</td>\n",
              "      <td>Divulgação da atividade parlamentar</td>\n",
              "      <td>13.659.201/0001-47</td>\n",
              "      <td>LINHA PURPURA FOTO E VIDEO LTDA</td>\n",
              "      <td>107</td>\n",
              "      <td>14/01/2022</td>\n",
              "      <td>Despesa com produção de texto e edição de víde...</td>\n",
              "      <td>6000</td>\n",
              "      <td>2173616</td>\n",
              "    </tr>\n",
              "  </tbody>\n",
              "</table>\n",
              "</div>\n",
              "      <button class=\"colab-df-convert\" onclick=\"convertToInteractive('df-cdf0cf66-1c7a-4db2-9e6d-70326f85b308')\"\n",
              "              title=\"Convert this dataframe to an interactive table.\"\n",
              "              style=\"display:none;\">\n",
              "        \n",
              "  <svg xmlns=\"http://www.w3.org/2000/svg\" height=\"24px\"viewBox=\"0 0 24 24\"\n",
              "       width=\"24px\">\n",
              "    <path d=\"M0 0h24v24H0V0z\" fill=\"none\"/>\n",
              "    <path d=\"M18.56 5.44l.94 2.06.94-2.06 2.06-.94-2.06-.94-.94-2.06-.94 2.06-2.06.94zm-11 1L8.5 8.5l.94-2.06 2.06-.94-2.06-.94L8.5 2.5l-.94 2.06-2.06.94zm10 10l.94 2.06.94-2.06 2.06-.94-2.06-.94-.94-2.06-.94 2.06-2.06.94z\"/><path d=\"M17.41 7.96l-1.37-1.37c-.4-.4-.92-.59-1.43-.59-.52 0-1.04.2-1.43.59L10.3 9.45l-7.72 7.72c-.78.78-.78 2.05 0 2.83L4 21.41c.39.39.9.59 1.41.59.51 0 1.02-.2 1.41-.59l7.78-7.78 2.81-2.81c.8-.78.8-2.07 0-2.86zM5.41 20L4 18.59l7.72-7.72 1.47 1.35L5.41 20z\"/>\n",
              "  </svg>\n",
              "      </button>\n",
              "      \n",
              "  <style>\n",
              "    .colab-df-container {\n",
              "      display:flex;\n",
              "      flex-wrap:wrap;\n",
              "      gap: 12px;\n",
              "    }\n",
              "\n",
              "    .colab-df-convert {\n",
              "      background-color: #E8F0FE;\n",
              "      border: none;\n",
              "      border-radius: 50%;\n",
              "      cursor: pointer;\n",
              "      display: none;\n",
              "      fill: #1967D2;\n",
              "      height: 32px;\n",
              "      padding: 0 0 0 0;\n",
              "      width: 32px;\n",
              "    }\n",
              "\n",
              "    .colab-df-convert:hover {\n",
              "      background-color: #E2EBFA;\n",
              "      box-shadow: 0px 1px 2px rgba(60, 64, 67, 0.3), 0px 1px 3px 1px rgba(60, 64, 67, 0.15);\n",
              "      fill: #174EA6;\n",
              "    }\n",
              "\n",
              "    [theme=dark] .colab-df-convert {\n",
              "      background-color: #3B4455;\n",
              "      fill: #D2E3FC;\n",
              "    }\n",
              "\n",
              "    [theme=dark] .colab-df-convert:hover {\n",
              "      background-color: #434B5C;\n",
              "      box-shadow: 0px 1px 3px 1px rgba(0, 0, 0, 0.15);\n",
              "      filter: drop-shadow(0px 1px 2px rgba(0, 0, 0, 0.3));\n",
              "      fill: #FFFFFF;\n",
              "    }\n",
              "  </style>\n",
              "\n",
              "      <script>\n",
              "        const buttonEl =\n",
              "          document.querySelector('#df-cdf0cf66-1c7a-4db2-9e6d-70326f85b308 button.colab-df-convert');\n",
              "        buttonEl.style.display =\n",
              "          google.colab.kernel.accessAllowed ? 'block' : 'none';\n",
              "\n",
              "        async function convertToInteractive(key) {\n",
              "          const element = document.querySelector('#df-cdf0cf66-1c7a-4db2-9e6d-70326f85b308');\n",
              "          const dataTable =\n",
              "            await google.colab.kernel.invokeFunction('convertToInteractive',\n",
              "                                                     [key], {});\n",
              "          if (!dataTable) return;\n",
              "\n",
              "          const docLinkHtml = 'Like what you see? Visit the ' +\n",
              "            '<a target=\"_blank\" href=https://colab.research.google.com/notebooks/data_table.ipynb>data table notebook</a>'\n",
              "            + ' to learn more about interactive tables.';\n",
              "          element.innerHTML = '';\n",
              "          dataTable['output_type'] = 'display_data';\n",
              "          await google.colab.output.renderOutput(dataTable, element);\n",
              "          const docLink = document.createElement('div');\n",
              "          docLink.innerHTML = docLinkHtml;\n",
              "          element.appendChild(docLink);\n",
              "        }\n",
              "      </script>\n",
              "    </div>\n",
              "  </div>\n",
              "  "
            ]
          },
          "metadata": {},
          "execution_count": 93
        }
      ]
    },
    {
      "cell_type": "markdown",
      "source": [
        "# Renomeando as colunas do DataFrame\n",
        "\n",
        "O nome das colunas estão objetivas, mas irei deixa-las em letra minuscula para facilitar a escrita.\n"
      ],
      "metadata": {
        "id": "RhVHmQ8KEOll"
      }
    },
    {
      "cell_type": "code",
      "source": [
        "columns=['ano','mes','senador','tipo_despesa','cnpj_cpf','fornecedor',\\\n",
        "         'documento','data','detalhamento','valor_reembolsado','cod_documento']\n",
        "\n",
        "ceaps.set_axis(columns,axis='columns',inplace=True)\n",
        "ceaps.columns"
      ],
      "metadata": {
        "colab": {
          "base_uri": "https://localhost:8080/"
        },
        "id": "H29BXJN6EhUF",
        "outputId": "ddb752ca-4fd4-4297-b8da-9e353fa6d292"
      },
      "execution_count": null,
      "outputs": [
        {
          "output_type": "execute_result",
          "data": {
            "text/plain": [
              "Index(['ano', 'mes', 'senador', 'tipo_despesa', 'cnpj_cpf', 'fornecedor',\n",
              "       'documento', 'data', 'detalhamento', 'valor_reembolsado',\n",
              "       'cod_documento'],\n",
              "      dtype='object')"
            ]
          },
          "metadata": {},
          "execution_count": 94
        }
      ]
    },
    {
      "cell_type": "markdown",
      "source": [
        "# Analisando as informações Nulas no DataFrame\n",
        "\n",
        "df.info()\n",
        "\n",
        "É uma ótima maneira de verificar a sua base de dados. Com ele, é possível ver o tipo de formato por coluna e quais colunas possuem valoes nulos."
      ],
      "metadata": {
        "id": "HrOmBco6n0q4"
      }
    },
    {
      "cell_type": "code",
      "source": [
        "ceaps.info()"
      ],
      "metadata": {
        "colab": {
          "base_uri": "https://localhost:8080/"
        },
        "id": "nLYUV_8il35G",
        "outputId": "2bd09bab-1ed4-41fa-d860-a4b85a745006"
      },
      "execution_count": null,
      "outputs": [
        {
          "output_type": "stream",
          "name": "stdout",
          "text": [
            "<class 'pandas.core.frame.DataFrame'>\n",
            "Int64Index: 80773 entries, 0 to 24491\n",
            "Data columns (total 11 columns):\n",
            " #   Column             Non-Null Count  Dtype \n",
            "---  ------             --------------  ----- \n",
            " 0   ano                80773 non-null  int64 \n",
            " 1   mes                80773 non-null  int64 \n",
            " 2   senador            80773 non-null  object\n",
            " 3   tipo_despesa       80773 non-null  object\n",
            " 4   cnpj_cpf           80773 non-null  object\n",
            " 5   fornecedor         80773 non-null  object\n",
            " 6   documento          77562 non-null  object\n",
            " 7   data               80773 non-null  object\n",
            " 8   detalhamento       50302 non-null  object\n",
            " 9   valor_reembolsado  80773 non-null  object\n",
            " 10  cod_documento      80773 non-null  int64 \n",
            "dtypes: int64(3), object(8)\n",
            "memory usage: 7.4+ MB\n"
          ]
        }
      ]
    },
    {
      "cell_type": "code",
      "source": [
        "print('Informações faltantes na coluna Documento:',round(((80773-77562)/80773)*100,2),'%')\n",
        "\n",
        "print('Informações faltantes na coluna Detalhamento:',round(((80773-50302)/80773)*100,2),'%')"
      ],
      "metadata": {
        "colab": {
          "base_uri": "https://localhost:8080/"
        },
        "id": "eOsYbBvsmxK1",
        "outputId": "4b2a77a9-bb93-4f00-8df4-b70b64ce5947"
      },
      "execution_count": null,
      "outputs": [
        {
          "output_type": "stream",
          "name": "stdout",
          "text": [
            "Informações faltantes na coluna Documento: 3.98 %\n",
            "Informações faltantes na coluna Detalhamento: 37.72 %\n"
          ]
        }
      ]
    },
    {
      "cell_type": "markdown",
      "source": [
        "# Problema 02\n",
        "\n",
        "No momento da alteração do tipo de dado string (texto) para float (valor flotuante). Apresentou erro, pois na coluna há valores de reembolso com centavos representados pela **vírgula**. <p>\n",
        "\n",
        "Para o Python, a vírgula representa separação para valores a partir de mil e valores decimais são representados por ponto final. Por ex: 1,850.63\n",
        "\n",
        "\n",
        "Para resolver este problema. Utilizei str.replace('x','y')\n",
        "\n",
        "str -  informar que o tipo de dado é texto\n",
        "replace('x','y') - substituir o valor antigo 'x' para o valor novo 'y'\n",
        "\n"
      ],
      "metadata": {
        "id": "iqgCEnVvrr-7"
      }
    },
    {
      "cell_type": "code",
      "source": [
        "\n",
        "ceaps['valor_reembolsado']=ceaps.valor_reembolsado.str.replace(',','.')\n",
        "\n",
        "ceaps.valor_reembolsado.unique()"
      ],
      "metadata": {
        "colab": {
          "base_uri": "https://localhost:8080/"
        },
        "id": "0k0ylXINm-HT",
        "outputId": "e95a7b04-fda9-4404-b9ab-f87a7ea6f6e9"
      },
      "execution_count": null,
      "outputs": [
        {
          "output_type": "execute_result",
          "data": {
            "text/plain": [
              "array(['6000', '1500', '1000', ..., '486.25', '1132.69', '1260.45'],\n",
              "      dtype=object)"
            ]
          },
          "metadata": {},
          "execution_count": 97
        }
      ]
    },
    {
      "cell_type": "code",
      "source": [
        "ceaps['valor_reembolsado']=  ceaps.valor_reembolsado.astype('float64',copy=False)\n",
        "ceaps.info()"
      ],
      "metadata": {
        "colab": {
          "base_uri": "https://localhost:8080/"
        },
        "id": "jz8fy4mSphJt",
        "outputId": "7865f43a-24ce-4ef2-a95c-6c6a77b88072"
      },
      "execution_count": null,
      "outputs": [
        {
          "output_type": "stream",
          "name": "stdout",
          "text": [
            "<class 'pandas.core.frame.DataFrame'>\n",
            "Int64Index: 80773 entries, 0 to 24491\n",
            "Data columns (total 11 columns):\n",
            " #   Column             Non-Null Count  Dtype  \n",
            "---  ------             --------------  -----  \n",
            " 0   ano                80773 non-null  int64  \n",
            " 1   mes                80773 non-null  int64  \n",
            " 2   senador            80773 non-null  object \n",
            " 3   tipo_despesa       80773 non-null  object \n",
            " 4   cnpj_cpf           80773 non-null  object \n",
            " 5   fornecedor         80773 non-null  object \n",
            " 6   documento          77562 non-null  object \n",
            " 7   data               80773 non-null  object \n",
            " 8   detalhamento       50302 non-null  object \n",
            " 9   valor_reembolsado  80773 non-null  float64\n",
            " 10  cod_documento      80773 non-null  int64  \n",
            "dtypes: float64(1), int64(3), object(7)\n",
            "memory usage: 7.4+ MB\n"
          ]
        }
      ]
    },
    {
      "cell_type": "markdown",
      "source": [
        "# Valores Nulos\n",
        "\n",
        "Substitui os valores nulos por \"sem_dados\". Pois pretendo analisar quais são os representantes publicos que possuem maior quantidade de dados faltantes e quanto isso representa."
      ],
      "metadata": {
        "id": "SRoaRnsOFghu"
      }
    },
    {
      "cell_type": "code",
      "source": [
        "ceaps['detalhamento'] = ceaps.detalhamento.replace(np.nan,'sem_dados')\n",
        "ceaps[ceaps.detalhamento=='sem_dados'].detalhamento.count()"
      ],
      "metadata": {
        "colab": {
          "base_uri": "https://localhost:8080/"
        },
        "id": "4_l6FsoeiZuh",
        "outputId": "f5047938-1b6f-4763-95b6-c1c704222128"
      },
      "execution_count": null,
      "outputs": [
        {
          "output_type": "execute_result",
          "data": {
            "text/plain": [
              "30471"
            ]
          },
          "metadata": {},
          "execution_count": 105
        }
      ]
    },
    {
      "cell_type": "code",
      "source": [
        "ceaps.detalhamento"
      ],
      "metadata": {
        "colab": {
          "base_uri": "https://localhost:8080/"
        },
        "id": "1SHqMOBmDZFV",
        "outputId": "704e918f-8745-4c9b-cabf-832ec0001dec"
      },
      "execution_count": null,
      "outputs": [
        {
          "output_type": "execute_result",
          "data": {
            "text/plain": [
              "0        Despesa com pagamento de aluguel de imóvel par...\n",
              "1        Despesa com divulgação da atividade parlamenta...\n",
              "2        Despesa com produção de texto e edição de víde...\n",
              "3                      Divulgação da atividade parlamentar\n",
              "4                      Divulgação da atividade parlamentar\n",
              "                               ...                        \n",
              "24487                                            sem_dados\n",
              "24488                                            sem_dados\n",
              "24489                                            sem_dados\n",
              "24490    Companhia Aérea: AZUL, Localizador: CI5PSK. Pa...\n",
              "24491    Companhia Aérea: LATAM, Localizador: OHNRAG. P...\n",
              "Name: detalhamento, Length: 80773, dtype: object"
            ]
          },
          "metadata": {},
          "execution_count": 122
        }
      ]
    },
    {
      "cell_type": "code",
      "source": [
        "\n",
        "plt.figure(figsize=(12,6))\n",
        "ceaps[ceaps.detalhamento == 'sem_dados']\\\n",
        ".groupby(by=('senador'))['valor_reembolsado']\\\n",
        ".sum().sort_values(ascending=False).head(10).plot.bar()\n",
        "plt.xticks(rotation=45,ha='right');\n",
        "plt.ylabel('Gastos em Bi R$',size=13)\n",
        "plt.xlabel('Senadores',size=13)\n",
        "plt.title('Valores Reembolsados Sem Detalhe da Despesa - \\TOP 10 Senadores \\n 2022 - 2018', size=18);"
      ],
      "metadata": {
        "colab": {
          "base_uri": "https://localhost:8080/",
          "height": 502
        },
        "id": "IrM7KGL3HP5c",
        "outputId": "c8f1a5eb-c466-4f8e-811b-379a6d6dd61e"
      },
      "execution_count": null,
      "outputs": [
        {
          "output_type": "display_data",
          "data": {
            "text/plain": [
              "<Figure size 864x432 with 1 Axes>"
            ],
            "image/png": "[encoded data removed]"
          },
          "metadata": {
            "needs_background": "light"
          }
        }
      ]
    },
    {
      "cell_type": "code",
      "source": [
        ""
      ],
      "metadata": {
        "id": "nmxkFxXPH16r"
      },
      "execution_count": null,
      "outputs": []
    }
  ]
}